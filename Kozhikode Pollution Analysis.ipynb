{
 "cells": [
  {
   "cell_type": "code",
   "execution_count": 13,
   "id": "40aa5478",
   "metadata": {},
   "outputs": [],
   "source": [
    "import requests\n",
    "import json"
   ]
  },
  {
   "cell_type": "code",
   "execution_count": 44,
   "id": "113a1c29",
   "metadata": {},
   "outputs": [],
   "source": [
    "mydict={\n",
    "  'api-key': '82c8d72e-34be-52fd-a251-4238aa29d924',\n",
    "  'product': 'pm25',\n",
    "  'region': 'kozhikode',\n",
    "  'regionType': 'district',\n",
    "  'duration': '1d'\n",
    "}"
   ]
  },
  {
   "cell_type": "code",
   "execution_count": 15,
   "id": "ca9224c5",
   "metadata": {},
   "outputs": [
    {
     "name": "stdout",
     "output_type": "stream",
     "text": [
      "{\n",
      "  \"data\": [\n",
      "    {\n",
      "      \"datetime\": \"2022-09-14T00:00:00.000Z\",\n",
      "      \"pm25\": null\n",
      "    }\n",
      "  ],\n",
      "  \"meta\": {\n",
      "    \"duration\": \"1d\",\n",
      "    \"region\": \"kozhikode\",\n",
      "    \"regionType\": \"district\"\n",
      "  }\n",
      "}\n"
     ]
    }
   ],
   "source": [
    "request=requests.get(\"https://gateway.blueskyhq.in/api/breezo/spatial\", params = mydict).json()\n",
    "print(json.dumps(request, indent=2))"
   ]
  },
  {
   "cell_type": "code",
   "execution_count": 47,
   "id": "64028a95",
   "metadata": {},
   "outputs": [
    {
     "name": "stdout",
     "output_type": "stream",
     "text": [
      "{\n",
      "  \"data\": [\n",
      "    {\n",
      "      \"datetime\": \"2022-09-08T00:00:00.000Z\",\n",
      "      \"pm25\": 16.25478390102828\n",
      "    },\n",
      "    {\n",
      "      \"datetime\": \"2022-09-09T00:00:00.000Z\",\n",
      "      \"pm25\": 18.581838447943444\n",
      "    },\n",
      "    {\n",
      "      \"datetime\": \"2022-09-10T00:00:00.000Z\",\n",
      "      \"pm25\": null\n",
      "    },\n",
      "    {\n",
      "      \"datetime\": \"2022-09-11T00:00:00.000Z\",\n",
      "      \"pm25\": 20.964436053984574\n",
      "    },\n",
      "    {\n",
      "      \"datetime\": \"2022-09-12T00:00:00.000Z\",\n",
      "      \"pm25\": null\n",
      "    },\n",
      "    {\n",
      "      \"datetime\": \"2022-09-13T00:00:00.000Z\",\n",
      "      \"pm25\": null\n",
      "    },\n",
      "    {\n",
      "      \"datetime\": \"2022-09-14T00:00:00.000Z\",\n",
      "      \"pm25\": null\n",
      "    }\n",
      "  ],\n",
      "  \"meta\": {\n",
      "    \"duration\": \"1w\",\n",
      "    \"region\": \"kozhikode\",\n",
      "    \"regionType\": \"district\"\n",
      "  }\n",
      "}\n"
     ]
    }
   ],
   "source": [
    "mydict={\n",
    "  'api-key': '74b93f11-ec8c-5ed3-8a91-b936ecb2b385',\n",
    "  'product': 'pm25',\n",
    "  'region': 'kozhikode',\n",
    "  'regionType': 'district',\n",
    "  'duration': '1w'\n",
    "}\n",
    "\n",
    "kozhikode_request1m=requests.get(\"https://gateway.blueskyhq.in/api/breezo/spatial\",params=mydict).json()\n",
    "print(json.dumps(kozhikode_request1w, indent=2))"
   ]
  },
  {
   "cell_type": "code",
   "execution_count": 18,
   "id": "bdc4ae24",
   "metadata": {},
   "outputs": [],
   "source": [
    "import pandas as pd"
   ]
  },
  {
   "cell_type": "code",
   "execution_count": 42,
   "id": "c17cb3af",
   "metadata": {},
   "outputs": [
    {
     "data": {
      "text/html": [
       "<div>\n",
       "<style scoped>\n",
       "    .dataframe tbody tr th:only-of-type {\n",
       "        vertical-align: middle;\n",
       "    }\n",
       "\n",
       "    .dataframe tbody tr th {\n",
       "        vertical-align: top;\n",
       "    }\n",
       "\n",
       "    .dataframe thead th {\n",
       "        text-align: right;\n",
       "    }\n",
       "</style>\n",
       "<table border=\"1\" class=\"dataframe\">\n",
       "  <thead>\n",
       "    <tr style=\"text-align: right;\">\n",
       "      <th></th>\n",
       "      <th>datetime</th>\n",
       "      <th>pm25</th>\n",
       "    </tr>\n",
       "  </thead>\n",
       "  <tbody>\n",
       "    <tr>\n",
       "      <th>0</th>\n",
       "      <td>2022-09-08</td>\n",
       "      <td>16.254784</td>\n",
       "    </tr>\n",
       "    <tr>\n",
       "      <th>1</th>\n",
       "      <td>2022-09-09</td>\n",
       "      <td>18.581838</td>\n",
       "    </tr>\n",
       "    <tr>\n",
       "      <th>2</th>\n",
       "      <td>2022-09-10</td>\n",
       "      <td>19.773137</td>\n",
       "    </tr>\n",
       "    <tr>\n",
       "      <th>3</th>\n",
       "      <td>2022-09-11</td>\n",
       "      <td>20.964436</td>\n",
       "    </tr>\n",
       "    <tr>\n",
       "      <th>4</th>\n",
       "      <td>2022-09-12</td>\n",
       "      <td>20.964436</td>\n",
       "    </tr>\n",
       "    <tr>\n",
       "      <th>5</th>\n",
       "      <td>2022-09-13</td>\n",
       "      <td>20.964436</td>\n",
       "    </tr>\n",
       "    <tr>\n",
       "      <th>6</th>\n",
       "      <td>2022-09-14</td>\n",
       "      <td>20.964436</td>\n",
       "    </tr>\n",
       "  </tbody>\n",
       "</table>\n",
       "</div>"
      ],
      "text/plain": [
       "     datetime       pm25\n",
       "0  2022-09-08  16.254784\n",
       "1  2022-09-09  18.581838\n",
       "2  2022-09-10  19.773137\n",
       "3  2022-09-11  20.964436\n",
       "4  2022-09-12  20.964436\n",
       "5  2022-09-13  20.964436\n",
       "6  2022-09-14  20.964436"
      ]
     },
     "execution_count": 42,
     "metadata": {},
     "output_type": "execute_result"
    }
   ],
   "source": [
    "df= pd.DataFrame(kozhikode_request1w['data'])\n",
    "df['datetime'] = pd.to_datetime(df['datetime']).dt.date\n",
    "df = df.interpolate()\n",
    "df"
   ]
  },
  {
   "cell_type": "code",
   "execution_count": 27,
   "id": "f59d01b5",
   "metadata": {},
   "outputs": [
    {
     "data": {
      "text/plain": [
       "datetime    2022-09-11T00:00:00.000Z\n",
       "pm25                       20.964436\n",
       "Name: 3, dtype: object"
      ]
     },
     "execution_count": 27,
     "metadata": {},
     "output_type": "execute_result"
    }
   ],
   "source": [
    "df.loc[df['pm25'].idxmax()]"
   ]
  },
  {
   "cell_type": "code",
   "execution_count": 28,
   "id": "9d7469cc",
   "metadata": {},
   "outputs": [
    {
     "data": {
      "text/plain": [
       "datetime    2022-09-08T00:00:00.000Z\n",
       "pm25                       16.254784\n",
       "Name: 0, dtype: object"
      ]
     },
     "execution_count": 28,
     "metadata": {},
     "output_type": "execute_result"
    }
   ],
   "source": [
    "df.loc[df['pm25'].idxmin()]"
   ]
  },
  {
   "cell_type": "code",
   "execution_count": 29,
   "id": "6bfd4c7a",
   "metadata": {},
   "outputs": [
    {
     "data": {
      "text/plain": [
       "19.78107197369629"
      ]
     },
     "execution_count": 29,
     "metadata": {},
     "output_type": "execute_result"
    }
   ],
   "source": [
    "df['pm25'].mean()"
   ]
  },
  {
   "cell_type": "code",
   "execution_count": 43,
   "id": "6359a111",
   "metadata": {},
   "outputs": [
    {
     "data": {
      "text/plain": [
       "Text(0.5, 1.0, 'Polluton in Kozhikode City')"
      ]
     },
     "execution_count": 43,
     "metadata": {},
     "output_type": "execute_result"
    },
    {
     "data": {
      "image/png": "[encoded data removed]",
      "text/plain": [
       "<Figure size 432x288 with 1 Axes>"
      ]
     },
     "metadata": {
      "needs_background": "light"
     },
     "output_type": "display_data"
    }
   ],
   "source": [
    "import matplotlib.pyplot as plt \n",
    "\n",
    "df.plot(x=\"datetime\", y=\"pm25\", kind=\"bar\")\n",
    "plt.xlabel('date')\n",
    "plt.title('Polluton in Kozhikode City')\n"
   ]
  }
 ],
 "metadata": {
  "kernelspec": {
   "display_name": "Python 3 (ipykernel)",
   "language": "python",
   "name": "python3"
  },
  "language_info": {
   "codemirror_mode": {
    "name": "ipython",
    "version": 3
   },
   "file_extension": ".py",
   "mimetype": "text/x-python",
   "name": "python",
   "nbconvert_exporter": "python",
   "pygments_lexer": "ipython3",
   "version": "3.9.12"
  }
 },
 "nbformat": 4,
 "nbformat_minor": 5
}
